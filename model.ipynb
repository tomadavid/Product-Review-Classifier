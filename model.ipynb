{
 "cells": [
  {
   "cell_type": "code",
   "execution_count": 78,
   "metadata": {},
   "outputs": [],
   "source": [
    "import numpy as np\n",
    "import pandas as pd\n",
    "from gensim.models import Word2Vec\n",
    "from sklearn.linear_model import LogisticRegression\n",
    "from nltk.corpus import stopwords\n",
    "\n",
    "\n",
    "class Model:\n",
    "    def __init__(self, vector_size=100, window=5, min_count=1):\n",
    "\n",
    "        self.w2v_model = None\n",
    "        self.vector_size = vector_size\n",
    "        self.window = window\n",
    "        self.min_count = min_count\n",
    "        self.classifier = LogisticRegression()\n",
    "\n",
    "    # tokenize a review\n",
    "    def tokenize(self, text):\n",
    "\n",
    "        stop_words = stopwords.words('english')\n",
    "        wrds = str(text).split()\n",
    "        wrds = [word for word in wrds if word not in stop_words]\n",
    "        return wrds\n",
    "    \n",
    "    # w2v train\n",
    "    def train_word2vec(self, review_tokens):\n",
    "\n",
    "        self.w2v_model = Word2Vec(sentences=review_tokens, \n",
    "                         vector_size=self.vector_size, \n",
    "                         window=self.window, \n",
    "                         min_count=self.window,  \n",
    "                         workers=4)\n",
    "        \n",
    "    # w2v conversion\n",
    "    def w2v(self, word):\n",
    "        if word in self.w2v_model.wv:\n",
    "            return self.w2v_model.wv[word]\n",
    "        else:\n",
    "            return np.zeros(100)\n",
    "    \n",
    "    # train classifier (reviews allready tokenized)\n",
    "    def train_classifier(self, reviews, labels):\n",
    "        \n",
    "        x = self.average_reviews(reviews)\n",
    "\n",
    "        self.classifier.fit(x, labels)\n",
    "\n",
    "    # predict\n",
    "    def predict(self, reviews):\n",
    "\n",
    "        x = self.average_reviews([self.tokenize(review) for review in reviews])\n",
    "\n",
    "        predicted = []\n",
    "        for review in x:\n",
    "            rev = np.array(review)\n",
    "            predicted += [self.classifier.predict(rev.reshape(1, -1))]\n",
    "        \n",
    "        return predicted\n",
    "\n",
    "        \n",
    "    # averages all w2v of a review to obtain a vector representing the review\n",
    "    def rev2vec(self, review):\n",
    "\n",
    "        average = np.zeros(100)\n",
    "        word_count = 0\n",
    "        \n",
    "        for word in review:\n",
    "            if len(average) == 0:\n",
    "                average = word\n",
    "            else:\n",
    "                average = np.add(average, word)\n",
    "            if np.all(word == 0):\n",
    "                word_count += 1\n",
    "        if word_count > 0:\n",
    "            average = average/word_count\n",
    "\n",
    "        return average\n",
    "\n",
    "    # average reviews\n",
    "    def average_reviews(self, reviews):\n",
    "\n",
    "        averaged_reviews = []\n",
    "\n",
    "        for review in reviews:\n",
    "            w2v_mat = []\n",
    "            for word in review:\n",
    "                w2v_mat += [self.w2v(word)]\n",
    "            averaged_reviews += [self.rev2vec(w2v_mat)]\n",
    "\n",
    "        return averaged_reviews"
   ]
  },
  {
   "cell_type": "markdown",
   "metadata": {},
   "source": [
    "Test and Train Sets"
   ]
  },
  {
   "cell_type": "code",
   "execution_count": 79,
   "metadata": {},
   "outputs": [],
   "source": [
    "train = pd.read_csv(\"train.csv\")\n",
    "test = pd.read_csv(\"test.csv\")\n",
    "\n",
    "X_train, y_train, X_test, y_test = train.iloc[:,1], train.iloc[:,0], test.iloc[:,1], test.iloc[:,0] "
   ]
  },
  {
   "cell_type": "markdown",
   "metadata": {},
   "source": [
    "Train the model (w2v and LR with the same data)"
   ]
  },
  {
   "cell_type": "code",
   "execution_count": 80,
   "metadata": {},
   "outputs": [],
   "source": [
    "model = Model()\n",
    "\n",
    "w2v_tokens = [model.tokenize(review) for review in X_train]\n",
    "\n",
    "model.train_word2vec(w2v_tokens)"
   ]
  },
  {
   "cell_type": "markdown",
   "metadata": {},
   "source": [
    "Train the Logistic Regression classifier"
   ]
  },
  {
   "cell_type": "code",
   "execution_count": 81,
   "metadata": {},
   "outputs": [],
   "source": [
    "model.train_classifier(w2v_tokens, y_train)"
   ]
  },
  {
   "cell_type": "markdown",
   "metadata": {},
   "source": [
    "Prediction"
   ]
  },
  {
   "cell_type": "code",
   "execution_count": 82,
   "metadata": {},
   "outputs": [],
   "source": [
    "pred = model.predict(X_test)"
   ]
  },
  {
   "cell_type": "code",
   "execution_count": 84,
   "metadata": {},
   "outputs": [
    {
     "data": {
      "text/plain": [
       "0.7832569581423954"
      ]
     },
     "execution_count": 84,
     "metadata": {},
     "output_type": "execute_result"
    }
   ],
   "source": [
    "from sklearn.metrics import accuracy_score\n",
    "\n",
    "accuracy_score(y_test, pred)\n"
   ]
  }
 ],
 "metadata": {
  "kernelspec": {
   "display_name": "Python 3",
   "language": "python",
   "name": "python3"
  },
  "language_info": {
   "codemirror_mode": {
    "name": "ipython",
    "version": 3
   },
   "file_extension": ".py",
   "mimetype": "text/x-python",
   "name": "python",
   "nbconvert_exporter": "python",
   "pygments_lexer": "ipython3",
   "version": "3.12.9"
  }
 },
 "nbformat": 4,
 "nbformat_minor": 2
}
